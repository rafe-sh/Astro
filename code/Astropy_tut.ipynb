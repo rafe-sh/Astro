{
 "cells": [
  {
   "cell_type": "code",
   "execution_count": 10,
   "id": "4abc2d00",
   "metadata": {},
   "outputs": [
    {
     "name": "stdout",
     "output_type": "stream",
     "text": [
      "INFO: Retrieving tables... [astroquery.utils.tap.core]\n",
      "INFO: Parsing tables... [astroquery.utils.tap.core]\n",
      "INFO: Done. [astroquery.utils.tap.core]\n"
     ]
    }
   ],
   "source": [
    "import astropy.units as u\n",
    "from astropy.coordinates.sky_coordinate import SkyCoord\n",
    "from astropy.units import Quantity\n",
    "from astroquery.gaia import Gaia\n",
    "import matplotlib.pyplot as plt\n",
    "import numpy as np\n",
    "import pandas as pd\n",
    "\n",
    "# Suppress warnings. Comment this out if you wish to see the warning messages\n",
    "import warnings\n",
    "warnings.filterwarnings('ignore')\n",
    "\n",
    "from astroquery.gaia import Gaia\n",
    "tables = Gaia.load_tables(only_names=True)\n",
    "# for table in (tables):\n",
    "#     print(table.get_qualified_name())"
   ]
  },
  {
   "cell_type": "code",
   "execution_count": 27,
   "id": "2045f36f",
   "metadata": {},
   "outputs": [
    {
     "name": "stdout",
     "output_type": "stream",
     "text": [
      "Jobid: 1685366089290O\n",
      "Phase: COMPLETED\n",
      "Owner: None\n",
      "Output file: 1685366089290O-result.csv\n",
      "Results: None\n"
     ]
    }
   ],
   "source": [
    "job = Gaia.launch_job_async(\"SELECT gaia_source.source_id, gaia_source.ra, \\\n",
    "                                    gaia_source.ra_error, gaia_source.dec, \\\n",
    "                                    gaia_source.dec_error, gaia_source.parallax, \\\n",
    "                                    gaia_source.parallax_error, gaia_source.pmra, \\\n",
    "                                    gaia_source.pmdec, gaia_source.phot_g_mean_mag, \\\n",
    "                                    gaia_source.bp_rp, gaia_source.bp_g, \\\n",
    "                                    gaia_source.g_rp, gaia_source.radial_velocity, \\\n",
    "                                    gaia_source.radial_velocity_error, gaia_source.phot_variable_flag, \\\n",
    "                                    gaia_source.l, gaia_source.b, \\\n",
    "                                    gaia_source.teff_val, gaia_source.a_g_val, \\\n",
    "                                    dist.r_est, dist.r_lo, dist.r_hi, dist.r_len \\\n",
    "                                FROM gaiadr2.gaia_source \\\n",
    "                                LEFT JOIN external.gaiadr2_geometric_distance as dist on (gaia_source.source_id = dist.source_id ) \\\n",
    "                                WHERE \\\n",
    "                                CONTAINS( \\\n",
    "                                    POINT('ICRS',gaiadr2.gaia_source.ra,gaiadr2.gaia_source.dec), \\\n",
    "                                    CIRCLE( \\\n",
    "                                    'ICRS', \\\n",
    "                                    COORD1(EPOCH_PROP_POS(11.798,85.244,.5053,-2.3087,-.9565,-42.0300,2000,2015.5)), \\\n",
    "                                    COORD2(EPOCH_PROP_POS(11.798,85.244,.5053,-2.3087,-.9565,-42.0300,2000,2015.5)), \\\n",
    "                                    0.4166666666666667) \\\n",
    "                                )=1\" , dump_to_file=True, output_format='csv')\n",
    "print (job)"
   ]
  },
  {
   "cell_type": "code",
   "execution_count": 1,
   "id": "5409b045",
   "metadata": {},
   "outputs": [],
   "source": [
    "import astropy.units as u\n",
    "from astropy.coordinates.sky_coordinate import SkyCoord\n",
    "from astropy.units import Quantity\n",
    "from astroquery.gaia import Gaia"
   ]
  },
  {
   "cell_type": "code",
   "execution_count": 16,
   "id": "23ff9df2",
   "metadata": {},
   "outputs": [],
   "source": [
    "import matplotlib.pyplot as plt\n",
    "import numpy as np\n",
    "import pandas as pd\n",
    "\n",
    "# Suppress warnings. Comment this out if you wish to see the warning messages\n",
    "import warnings\n",
    "warnings.filterwarnings('ignore')"
   ]
  },
  {
   "cell_type": "code",
   "execution_count": 3,
   "id": "123133bb",
   "metadata": {
    "collapsed": true
   },
   "outputs": [
    {
     "name": "stdout",
     "output_type": "stream",
     "text": [
      "INFO: Retrieving tables... [astroquery.utils.tap.core]\n",
      "INFO: Parsing tables... [astroquery.utils.tap.core]\n",
      "INFO: Done. [astroquery.utils.tap.core]\n",
      "external.external.apassdr9\n",
      "external.external.gaiadr2_astrophysical_parameters\n",
      "external.external.gaiadr2_geometric_distance\n",
      "external.external.gaiaedr3_distance\n",
      "external.external.gaiaedr3_gcns_main_1\n",
      "external.external.gaiaedr3_gcns_rejected_1\n",
      "external.external.gaiaedr3_spurious\n",
      "external.external.galex_ais\n",
      "external.external.ravedr5_com\n",
      "external.external.ravedr5_dr5\n",
      "external.external.ravedr5_gra\n",
      "external.external.ravedr5_on\n",
      "external.external.ravedr6\n",
      "external.external.sdssdr13_photoprimary\n",
      "external.external.skymapperdr1_master\n",
      "external.external.skymapperdr2_master\n",
      "external.external.tmass_xsc\n",
      "gaiadr1.gaiadr1.aux_qso_icrf2_match\n",
      "gaiadr1.gaiadr1.ext_phot_zero_point\n",
      "gaiadr1.gaiadr1.allwise_best_neighbour\n",
      "gaiadr1.gaiadr1.allwise_neighbourhood\n",
      "gaiadr1.gaiadr1.gsc23_best_neighbour\n",
      "gaiadr1.gaiadr1.gsc23_neighbourhood\n",
      "gaiadr1.gaiadr1.ppmxl_best_neighbour\n",
      "gaiadr1.gaiadr1.ppmxl_neighbourhood\n",
      "gaiadr1.gaiadr1.sdss_dr9_best_neighbour\n",
      "gaiadr1.gaiadr1.sdss_dr9_neighbourhood\n",
      "gaiadr1.gaiadr1.tmass_best_neighbour\n",
      "gaiadr1.gaiadr1.tmass_neighbourhood\n",
      "gaiadr1.gaiadr1.ucac4_best_neighbour\n",
      "gaiadr1.gaiadr1.ucac4_neighbourhood\n",
      "gaiadr1.gaiadr1.urat1_best_neighbour\n",
      "gaiadr1.gaiadr1.urat1_neighbourhood\n",
      "gaiadr1.gaiadr1.cepheid\n",
      "gaiadr1.gaiadr1.phot_variable_time_series_gfov\n",
      "gaiadr1.gaiadr1.phot_variable_time_series_gfov_statistical_parameters\n",
      "gaiadr1.gaiadr1.rrlyrae\n",
      "gaiadr1.gaiadr1.variable_summary\n",
      "gaiadr1.gaiadr1.allwise_original_valid\n",
      "gaiadr1.gaiadr1.gsc23_original_valid\n",
      "gaiadr1.gaiadr1.ppmxl_original_valid\n",
      "gaiadr1.gaiadr1.sdssdr9_original_valid\n",
      "gaiadr1.gaiadr1.tmass_original_valid\n",
      "gaiadr1.gaiadr1.ucac4_original_valid\n",
      "gaiadr1.gaiadr1.urat1_original_valid\n",
      "gaiadr1.gaiadr1.gaia_source\n",
      "gaiadr1.gaiadr1.tgas_source\n",
      "gaiadr2.gaiadr2.aux_allwise_agn_gdr2_cross_id\n",
      "gaiadr2.gaiadr2.aux_iers_gdr2_cross_id\n",
      "gaiadr2.gaiadr2.aux_sso_orbit_residuals\n",
      "gaiadr2.gaiadr2.aux_sso_orbits\n",
      "gaiadr2.gaiadr2.dr1_neighbourhood\n",
      "gaiadr2.gaiadr2.allwise_best_neighbour\n",
      "gaiadr2.gaiadr2.allwise_neighbourhood\n",
      "gaiadr2.gaiadr2.apassdr9_best_neighbour\n",
      "gaiadr2.gaiadr2.apassdr9_neighbourhood\n",
      "gaiadr2.gaiadr2.gsc23_best_neighbour\n",
      "gaiadr2.gaiadr2.gsc23_neighbourhood\n",
      "gaiadr2.gaiadr2.hipparcos2_best_neighbour\n",
      "gaiadr2.gaiadr2.hipparcos2_neighbourhood\n",
      "gaiadr2.gaiadr2.panstarrs1_best_neighbour\n",
      "gaiadr2.gaiadr2.panstarrs1_neighbourhood\n",
      "gaiadr2.gaiadr2.ppmxl_best_neighbour\n",
      "gaiadr2.gaiadr2.ppmxl_neighbourhood\n",
      "gaiadr2.gaiadr2.ravedr5_best_neighbour\n",
      "gaiadr2.gaiadr2.ravedr5_neighbourhood\n",
      "gaiadr2.gaiadr2.sdssdr9_best_neighbour\n",
      "gaiadr2.gaiadr2.sdssdr9_neighbourhood\n",
      "gaiadr2.gaiadr2.tmass_best_neighbour\n",
      "gaiadr2.gaiadr2.tmass_neighbourhood\n",
      "gaiadr2.gaiadr2.tycho2_best_neighbour\n",
      "gaiadr2.gaiadr2.tycho2_neighbourhood\n",
      "gaiadr2.gaiadr2.urat1_best_neighbour\n",
      "gaiadr2.gaiadr2.urat1_neighbourhood\n",
      "gaiadr2.gaiadr2.sso_observation\n",
      "gaiadr2.gaiadr2.sso_source\n",
      "gaiadr2.gaiadr2.vari_cepheid\n",
      "gaiadr2.gaiadr2.vari_classifier_class_definition\n",
      "gaiadr2.gaiadr2.vari_classifier_definition\n",
      "gaiadr2.gaiadr2.vari_classifier_result\n",
      "gaiadr2.gaiadr2.vari_long_period_variable\n",
      "gaiadr2.gaiadr2.vari_rotation_modulation\n",
      "gaiadr2.gaiadr2.vari_rrlyrae\n",
      "gaiadr2.gaiadr2.vari_short_timescale\n",
      "gaiadr2.gaiadr2.vari_time_series_statistics\n",
      "gaiadr2.gaiadr2.panstarrs1_original_valid\n",
      "gaiadr2.gaiadr2.gaia_source\n",
      "gaiadr2.gaiadr2.ruwe\n",
      "gaiadr3.gaiadr3.gaia_source\n",
      "gaiadr3.gaiadr3.gaia_source_lite\n",
      "gaiadr3.gaiadr3.astrophysical_parameters\n",
      "gaiadr3.gaiadr3.astrophysical_parameters_supp\n",
      "gaiadr3.gaiadr3.oa_neuron_information\n",
      "gaiadr3.gaiadr3.oa_neuron_xp_spectra\n",
      "gaiadr3.gaiadr3.total_galactic_extinction_map\n",
      "gaiadr3.gaiadr3.total_galactic_extinction_map_opt\n",
      "gaiadr3.gaiadr3.commanded_scan_law\n",
      "gaiadr3.gaiadr3.allwise_best_neighbour\n",
      "gaiadr3.gaiadr3.allwise_neighbourhood\n",
      "gaiadr3.gaiadr3.apassdr9_best_neighbour\n",
      "gaiadr3.gaiadr3.apassdr9_join\n",
      "gaiadr3.gaiadr3.apassdr9_neighbourhood\n",
      "gaiadr3.gaiadr3.dr2_neighbourhood\n",
      "gaiadr3.gaiadr3.gsc23_best_neighbour\n",
      "gaiadr3.gaiadr3.gsc23_join\n",
      "gaiadr3.gaiadr3.gsc23_neighbourhood\n",
      "gaiadr3.gaiadr3.hipparcos2_best_neighbour\n",
      "gaiadr3.gaiadr3.hipparcos2_neighbourhood\n",
      "gaiadr3.gaiadr3.panstarrs1_best_neighbour\n",
      "gaiadr3.gaiadr3.panstarrs1_join\n",
      "gaiadr3.gaiadr3.panstarrs1_neighbourhood\n",
      "gaiadr3.gaiadr3.ravedr5_best_neighbour\n",
      "gaiadr3.gaiadr3.ravedr5_join\n",
      "gaiadr3.gaiadr3.ravedr5_neighbourhood\n",
      "gaiadr3.gaiadr3.ravedr6_best_neighbour\n",
      "gaiadr3.gaiadr3.ravedr6_join\n",
      "gaiadr3.gaiadr3.ravedr6_neighbourhood\n",
      "gaiadr3.gaiadr3.sdssdr13_best_neighbour\n",
      "gaiadr3.gaiadr3.sdssdr13_join\n",
      "gaiadr3.gaiadr3.sdssdr13_neighbourhood\n",
      "gaiadr3.gaiadr3.skymapperdr2_best_neighbour\n",
      "gaiadr3.gaiadr3.skymapperdr2_join\n",
      "gaiadr3.gaiadr3.skymapperdr2_neighbourhood\n",
      "gaiadr3.gaiadr3.tmass_psc_xsc_best_neighbour\n",
      "gaiadr3.gaiadr3.tmass_psc_xsc_join\n",
      "gaiadr3.gaiadr3.tmass_psc_xsc_neighbourhood\n",
      "gaiadr3.gaiadr3.tycho2tdsc_merge_best_neighbour\n",
      "gaiadr3.gaiadr3.tycho2tdsc_merge_neighbourhood\n",
      "gaiadr3.gaiadr3.urat1_best_neighbour\n",
      "gaiadr3.gaiadr3.urat1_neighbourhood\n",
      "gaiadr3.gaiadr3.galaxy_candidates\n",
      "gaiadr3.gaiadr3.galaxy_catalogue_name\n",
      "gaiadr3.gaiadr3.qso_candidates\n",
      "gaiadr3.gaiadr3.qso_catalogue_name\n",
      "gaiadr3.gaiadr3.nss_acceleration_astro\n",
      "gaiadr3.gaiadr3.nss_non_linear_spectro\n",
      "gaiadr3.gaiadr3.nss_two_body_orbit\n",
      "gaiadr3.gaiadr3.nss_vim_fl\n",
      "gaiadr3.gaiadr3.binary_masses\n",
      "gaiadr3.gaiadr3.chemical_cartography\n",
      "gaiadr3.gaiadr3.gold_sample_carbon_stars\n",
      "gaiadr3.gaiadr3.gold_sample_fgkm_stars\n",
      "gaiadr3.gaiadr3.gold_sample_oba_stars\n",
      "gaiadr3.gaiadr3.gold_sample_solar_analogues\n",
      "gaiadr3.gaiadr3.gold_sample_spss\n",
      "gaiadr3.gaiadr3.gold_sample_ucd\n",
      "gaiadr3.gaiadr3.sso_orbits\n",
      "gaiadr3.gaiadr3.synthetic_photometry_gspc\n",
      "gaiadr3.gaiadr3.vari_spurious_signals\n",
      "gaiadr3.gaiadr3.agn_cross_id\n",
      "gaiadr3.gaiadr3.frame_rotator_source\n",
      "gaiadr3.gaiadr3.gaia_crf3_xm\n",
      "gaiadr3.gaiadr3.alerts_mixedin_sourceids\n",
      "gaiadr3.gaiadr3.science_alerts\n",
      "gaiadr3.gaiadr3.gaia_source_simulation\n",
      "gaiadr3.gaiadr3.gaia_universe_model\n",
      "gaiadr3.gaiadr3.sso_observation\n",
      "gaiadr3.gaiadr3.sso_reflectance_spectrum\n",
      "gaiadr3.gaiadr3.sso_source\n",
      "gaiadr3.gaiadr3.xp_summary\n",
      "gaiadr3.gaiadr3.vari_agn\n",
      "gaiadr3.gaiadr3.vari_cepheid\n",
      "gaiadr3.gaiadr3.vari_classifier_class_definition\n",
      "gaiadr3.gaiadr3.vari_classifier_definition\n",
      "gaiadr3.gaiadr3.vari_classifier_result\n",
      "gaiadr3.gaiadr3.vari_compact_companion\n",
      "gaiadr3.gaiadr3.vari_eclipsing_binary\n",
      "gaiadr3.gaiadr3.vari_epoch_radial_velocity\n",
      "gaiadr3.gaiadr3.vari_long_period_variable\n",
      "gaiadr3.gaiadr3.vari_microlensing\n",
      "gaiadr3.gaiadr3.vari_ms_oscillator\n",
      "gaiadr3.gaiadr3.vari_planetary_transit\n",
      "gaiadr3.gaiadr3.vari_planetary_transit_13june2022\n",
      "gaiadr3.gaiadr3.vari_rad_vel_statistics\n",
      "gaiadr3.gaiadr3.vari_rotation_modulation\n",
      "gaiadr3.gaiadr3.vari_rrlyrae\n",
      "gaiadr3.gaiadr3.vari_short_timescale\n",
      "gaiadr3.gaiadr3.vari_summary\n",
      "gaiadr3.gaiadr3.tycho2tdsc_merge\n",
      "gaiaedr3.gaiaedr3.gaia_source\n",
      "gaiaedr3.gaiaedr3.agn_cross_id\n",
      "gaiaedr3.gaiaedr3.commanded_scan_law\n",
      "gaiaedr3.gaiaedr3.dr2_neighbourhood\n",
      "gaiaedr3.gaiaedr3.frame_rotator_source\n",
      "gaiaedr3.gaiaedr3.allwise_best_neighbour\n",
      "gaiaedr3.gaiaedr3.allwise_neighbourhood\n",
      "gaiaedr3.gaiaedr3.apassdr9_best_neighbour\n",
      "gaiaedr3.gaiaedr3.apassdr9_join\n",
      "gaiaedr3.gaiaedr3.apassdr9_neighbourhood\n",
      "gaiaedr3.gaiaedr3.gsc23_best_neighbour\n",
      "gaiaedr3.gaiaedr3.gsc23_join\n",
      "gaiaedr3.gaiaedr3.gsc23_neighbourhood\n",
      "gaiaedr3.gaiaedr3.hipparcos2_best_neighbour\n",
      "gaiaedr3.gaiaedr3.hipparcos2_neighbourhood\n",
      "gaiaedr3.gaiaedr3.panstarrs1_best_neighbour\n",
      "gaiaedr3.gaiaedr3.panstarrs1_join\n",
      "gaiaedr3.gaiaedr3.panstarrs1_neighbourhood\n",
      "gaiaedr3.gaiaedr3.ravedr5_best_neighbour\n",
      "gaiaedr3.gaiaedr3.ravedr5_join\n",
      "gaiaedr3.gaiaedr3.ravedr5_neighbourhood\n",
      "gaiaedr3.gaiaedr3.sdssdr13_best_neighbour\n",
      "gaiaedr3.gaiaedr3.sdssdr13_join\n",
      "gaiaedr3.gaiaedr3.sdssdr13_neighbourhood\n",
      "gaiaedr3.gaiaedr3.skymapperdr2_best_neighbour\n",
      "gaiaedr3.gaiaedr3.skymapperdr2_join\n",
      "gaiaedr3.gaiaedr3.skymapperdr2_neighbourhood\n",
      "gaiaedr3.gaiaedr3.tmass_psc_xsc_best_neighbour\n",
      "gaiaedr3.gaiaedr3.tmass_psc_xsc_join\n",
      "gaiaedr3.gaiaedr3.tmass_psc_xsc_neighbourhood\n",
      "gaiaedr3.gaiaedr3.tycho2tdsc_merge_best_neighbour\n",
      "gaiaedr3.gaiaedr3.tycho2tdsc_merge_neighbourhood\n",
      "gaiaedr3.gaiaedr3.urat1_best_neighbour\n",
      "gaiaedr3.gaiaedr3.urat1_neighbourhood\n",
      "gaiaedr3.gaiaedr3.gaia_source_simulation\n",
      "gaiaedr3.gaiaedr3.gaia_universe_model\n",
      "gaiaedr3.gaiaedr3.tycho2tdsc_merge\n",
      "public.public.hipparcos\n",
      "public.public.hipparcos_newreduction\n",
      "public.public.hubble_sc\n",
      "public.public.igsl_source\n",
      "public.public.igsl_source_catalog_ids\n",
      "public.public.tycho2\n",
      "public.public.dual\n",
      "tap_config.tap_config.coord_sys\n",
      "tap_config.tap_config.properties\n",
      "tap_schema.tap_schema.columns\n",
      "tap_schema.tap_schema.key_columns\n",
      "tap_schema.tap_schema.keys\n",
      "tap_schema.tap_schema.schemas\n",
      "tap_schema.tap_schema.tables\n"
     ]
    }
   ],
   "source": [
    "from astroquery.gaia import Gaia\n",
    "tables = Gaia.load_tables(only_names=True)\n",
    "for table in (tables):\n",
    "    print(table.get_qualified_name())"
   ]
  },
  {
   "cell_type": "code",
   "execution_count": 4,
   "id": "87d45d46",
   "metadata": {
    "scrolled": true
   },
   "outputs": [
    {
     "data": {
      "text/plain": [
       "'gaiadr2.gaiadr2.gaia_source'"
      ]
     },
     "execution_count": 4,
     "metadata": {},
     "output_type": "execute_result"
    }
   ],
   "source": [
    "tables[86].get_qualified_name()"
   ]
  },
  {
   "cell_type": "code",
   "execution_count": 6,
   "id": "163a5b77",
   "metadata": {},
   "outputs": [
    {
     "data": {
      "text/plain": [
       "astroquery.utils.tap.model.taptable.TapTableMeta"
      ]
     },
     "execution_count": 6,
     "metadata": {},
     "output_type": "execute_result"
    }
   ],
   "source": [
    "type(tables[-1])"
   ]
  },
  {
   "cell_type": "code",
   "execution_count": 8,
   "id": "e43b28f5",
   "metadata": {},
   "outputs": [
    {
     "name": "stdout",
     "output_type": "stream",
     "text": [
      "Jobid: 1682680346630O\n",
      "Phase: COMPLETED\n",
      "Owner: None\n",
      "Output file: 1682680346630O-result.csv\n",
      "Results: None\n"
     ]
    }
   ],
   "source": [
    "job = Gaia.launch_job_async(\"SELECT gaia_source.source_id, gaia_source.ra, gaia_source.ra_error, gaia_source.dec, gaia_source.dec_error, gaia_source.parallax, gaia_source.parallax_error, gaia_source.phot_g_mean_mag, gaia_source.bp_rp, gaia_source.bp_g, gaia_source.radial_velocity, gaia_source.radial_velocity_error, gaia_source.phot_variable_flag, gaia_source.l, gaia_source.b, gaia_source.teff_val, gaia_source.a_g_val \\\n",
    "                             FROM gaiadr2.gaia_source \\\n",
    "                             WHERE \\\n",
    "                             CONTAINS(\\\n",
    "                                 POINT('ICRS',gaiadr2.gaia_source.ra,gaiadr2.gaia_source.dec),\\\n",
    "                                 CIRCLE(\\\n",
    "                                     'ICRS',\\\n",
    "                                    COORD1(EPOCH_PROP_POS(132.846,11.814,1.1325,-10.9737,-2.9396,33.9200,2000,2015.5)),\\\n",
    "                                    COORD2(EPOCH_PROP_POS(132.846,11.814,1.1325,-10.9737,-2.9396,33.9200,2000,2015.5)),\\\n",
    "                                 1)\\\n",
    "                             )=1\" \\\n",
    "                            , dump_to_file=True, output_format='csv')\n",
    "\n",
    "print (job)"
   ]
  },
  {
   "cell_type": "code",
   "execution_count": 14,
   "id": "f00ede70",
   "metadata": {},
   "outputs": [],
   "source": [
    "m65_cluster = job.get_results()"
   ]
  },
  {
   "cell_type": "code",
   "execution_count": 23,
   "id": "f01e7cbd",
   "metadata": {},
   "outputs": [
    {
     "name": "stdout",
     "output_type": "stream",
     "text": [
      "<Table length=19423>\r\n",
      "         name          dtype     class     n_bad\r\n",
      "--------------------- ------- ------------ -----\r\n",
      "            source_id   str18       Column     0\r\n",
      "                   ra float64       Column     0\r\n",
      "             ra_error float64       Column     0\r\n",
      "                  dec float64       Column     0\r\n",
      "            dec_error float64       Column     0\r\n",
      "             parallax float64 MaskedColumn  3150\r\n",
      "       parallax_error float64 MaskedColumn  3150\r\n",
      "      phot_g_mean_mag float64       Column     0\r\n",
      "                bp_rp float64 MaskedColumn  1902\r\n",
      "                 bp_g float64 MaskedColumn  1899\r\n",
      "      radial_velocity float64 MaskedColumn 19081\r\n",
      "radial_velocity_error float64 MaskedColumn 19081\r\n",
      "   phot_variable_flag   str13       Column     0\r\n",
      "                    l float64       Column     0\r\n",
      "                    b float64       Column     0\r\n",
      "             teff_val float64 MaskedColumn 15083\r\n",
      "              a_g_val float64 MaskedColumn 16090\r\n"
     ]
    }
   ],
   "source": [
    "m65_cluster.info()"
   ]
  },
  {
   "cell_type": "code",
   "execution_count": 24,
   "id": "d1b0c939",
   "metadata": {
    "scrolled": true
   },
   "outputs": [
    {
     "data": {
      "text/plain": [
       "19423"
      ]
     },
     "execution_count": 24,
     "metadata": {},
     "output_type": "execute_result"
    }
   ],
   "source": [
    "len(m65_cluster)"
   ]
  },
  {
   "cell_type": "code",
   "execution_count": 25,
   "id": "bb35cb55",
   "metadata": {},
   "outputs": [
    {
     "data": {
      "text/plain": [
       "<TableColumns names=('source_id','ra','ra_error','dec','dec_error','parallax','parallax_error','phot_g_mean_mag','bp_rp','bp_g','radial_velocity','radial_velocity_error','phot_variable_flag','l','b','teff_val','a_g_val')>"
      ]
     },
     "execution_count": 25,
     "metadata": {},
     "output_type": "execute_result"
    }
   ],
   "source": [
    "m65_cluster.columns"
   ]
  },
  {
   "cell_type": "code",
   "execution_count": 26,
   "id": "cb11ca6b",
   "metadata": {},
   "outputs": [
    {
     "data": {
      "text/html": [
       "<div><i>Table length=5</i>\n",
       "<table id=\"table2739293992704\" class=\"table-striped table-bordered table-condensed\">\n",
       "<thead><tr><th>source_id</th><th>ra</th><th>dec</th><th>parallax</th><th>phot_g_mean_mag</th><th>bp_rp</th><th>bp_g</th><th>l</th><th>b</th><th>teff_val</th><th>a_g_val</th></tr></thead>\n",
       "<thead><tr><th>str18</th><th>float64</th><th>float64</th><th>float64</th><th>float64</th><th>float64</th><th>float64</th><th>float64</th><th>float64</th><th>float64</th><th>float64</th></tr></thead>\n",
       "<tr><td>598691984069077248</td><td>132.94536968437498</td><td>11.258305499355092</td><td>2.3904768434206956</td><td>19.998251</td><td>2.4622784</td><td>1.1555309</td><td>216.332780534556</td><td>31.775110305372934</td><td>--</td><td>--</td></tr>\n",
       "<tr><td>598658178377009408</td><td>132.43904844191852</td><td>10.946329112475633</td><td>1.697264527907258</td><td>15.285919</td><td>1.2350359</td><td>0.5488453</td><td>216.4165337172158</td><td>31.192802292650445</td><td>4873.92</td><td>0.0213</td></tr>\n",
       "<tr><td>598872544489581568</td><td>132.15378524601394</td><td>11.365852264316905</td><td>0.11883871674403013</td><td>18.999584</td><td>1.192419</td><td>0.45717812</td><td>215.83389853922966</td><td>31.11714253043872</td><td>--</td><td>--</td></tr>\n",
       "<tr><td>598864641751136512</td><td>132.20482052784936</td><td>11.160984893513929</td><td>-0.7379959855291446</td><td>20.758738</td><td>0.9287262</td><td>0.07074547</td><td>216.07542154532555</td><td>31.07587370764362</td><td>--</td><td>--</td></tr>\n",
       "<tr><td>598676693985469312</td><td>132.92758447553285</td><td>11.113314085459296</td><td>2.9517578577347763</td><td>19.548708</td><td>2.5117397</td><td>1.23979</td><td>216.4784590671358</td><td>31.697801423493843</td><td>--</td><td>--</td></tr>\n",
       "</table></div>"
      ],
      "text/plain": [
       "<Table length=5>\n",
       "    source_id              ra                dec         ... teff_val a_g_val\n",
       "      str18             float64            float64       ... float64  float64\n",
       "------------------ ------------------ ------------------ ... -------- -------\n",
       "598691984069077248 132.94536968437498 11.258305499355092 ...       --      --\n",
       "598658178377009408 132.43904844191852 10.946329112475633 ...  4873.92  0.0213\n",
       "598872544489581568 132.15378524601394 11.365852264316905 ...       --      --\n",
       "598864641751136512 132.20482052784936 11.160984893513929 ...       --      --\n",
       "598676693985469312 132.92758447553285 11.113314085459296 ...       --      --"
      ]
     },
     "execution_count": 26,
     "metadata": {},
     "output_type": "execute_result"
    }
   ],
   "source": [
    "m65_cluster[['source_id', 'ra', 'dec', 'parallax', 'phot_g_mean_mag', 'bp_rp', 'bp_g', 'l', 'b', 'teff_val', 'a_g_val']][:5]"
   ]
  },
  {
   "cell_type": "code",
   "execution_count": 27,
   "id": "e1208984",
   "metadata": {},
   "outputs": [
    {
     "data": {
      "image/png": "[encoded data removed]",
      "text/plain": [
       "<Figure size 432x288 with 1 Axes>"
      ]
     },
     "metadata": {
      "needs_background": "light"
     },
     "output_type": "display_data"
    }
   ],
   "source": [
    "plt.scatter(m65_cluster['l'], m65_cluster['b'], color='r', alpha=0.3)\n",
    "plt.xlim(215.5,216)\n",
    "plt.ylim(32.25,32.50)\n",
    "\n",
    "plt.show()"
   ]
  },
  {
   "cell_type": "code",
   "execution_count": 28,
   "id": "a84b429c",
   "metadata": {},
   "outputs": [
    {
     "data": {
      "text/plain": [
       "0.9639557753703205"
      ]
     },
     "execution_count": 28,
     "metadata": {},
     "output_type": "execute_result"
    }
   ],
   "source": [
    "np.mean(m65_cluster['parallax'])"
   ]
  },
  {
   "cell_type": "code",
   "execution_count": 29,
   "id": "0ca90d7b",
   "metadata": {},
   "outputs": [
    {
     "data": {
      "text/plain": [
       "1.3532561517635624"
      ]
     },
     "execution_count": 29,
     "metadata": {},
     "output_type": "execute_result"
    }
   ],
   "source": [
    "np.std(m65_cluster['parallax'])"
   ]
  },
  {
   "cell_type": "code",
   "execution_count": null,
   "id": "797a65da",
   "metadata": {},
   "outputs": [],
   "source": []
  }
 ],
 "metadata": {
  "kernelspec": {
   "display_name": "Python 3 (ipykernel)",
   "language": "python",
   "name": "python3"
  },
  "language_info": {
   "codemirror_mode": {
    "name": "ipython",
    "version": 3
   },
   "file_extension": ".py",
   "mimetype": "text/x-python",
   "name": "python",
   "nbconvert_exporter": "python",
   "pygments_lexer": "ipython3",
   "version": "3.8.2"
  }
 },
 "nbformat": 4,
 "nbformat_minor": 5
}
