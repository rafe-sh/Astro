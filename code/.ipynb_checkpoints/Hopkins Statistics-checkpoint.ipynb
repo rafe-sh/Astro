{
 "cells": [
  {
   "cell_type": "markdown",
   "id": "fc285d40",
   "metadata": {},
   "source": [
    "## Hopkins Statistics"
   ]
  },
  {
   "cell_type": "code",
   "execution_count": 4,
   "id": "94a7bd9e",
   "metadata": {},
   "outputs": [],
   "source": [
    "import numpy as np\n",
    "from sklearn.neighbors import NearestNeighbors\n",
    "import pandas as pd\n",
    "import matplotlib.pyplot as plt\n",
    "import seaborn as sns\n",
    "import mpl_scatter_density \n",
    "from matplotlib.colors import LinearSegmentedColormap\n",
    "import warnings\n",
    "warnings.filterwarnings('ignore')"
   ]
  },
  {
   "cell_type": "code",
   "execution_count": 43,
   "id": "ac7f8f7f",
   "metadata": {},
   "outputs": [],
   "source": [
    "def hopkins_statistic(data, n_neighbors=10):\n",
    "    \"\"\"\n",
    "    Calculate the Hopkins statistic for a given dataset to determine if it has potential clusters or not.\n",
    "\n",
    "    Parameters:\n",
    "    -----------\n",
    "    data : numpy array\n",
    "        The dataset to calculate the Hopkins statistic on.\n",
    "    n_neighbors : int, optional (default=10)\n",
    "        The number of nearest neighbors to use when calculating the Hopkins statistic.\n",
    "\n",
    "    Returns:\n",
    "    --------\n",
    "    float\n",
    "        The Hopkins statistic for the given dataset.\n",
    "    \"\"\"\n",
    "    # Calculate the number of samples in the dataset\n",
    "    n = data.shape[0]\n",
    "\n",
    "    # Generate random points in the same space as the data\n",
    "    rand_points = np.random.rand(n, data.shape[1])\n",
    "\n",
    "    # Fit a k-nearest neighbors model to the data\n",
    "    knn = NearestNeighbors(n_neighbors=n_neighbors)\n",
    "    knn.fit(data)\n",
    "\n",
    "    # Calculate the distance between each data point and its nearest neighbor\n",
    "    data_distances, _ = knn.kneighbors(data)\n",
    "\n",
    "    # Fit another k-nearest neighbors model to the random points\n",
    "    knn_rand = NearestNeighbors(n_neighbors=n_neighbors)\n",
    "    knn_rand.fit(rand_points)\n",
    "\n",
    "    # Calculate the distance between each random point and its nearest neighbor\n",
    "    rand_distances, _= knn_rand.kneighbors(rand_points)\n",
    "\n",
    "    # Calculate the Hopkins statistic\n",
    "    numerator = np.sum(data_distances)\n",
    "    denominator = np.sum(data_distances) + np.sum(rand_distances)\n",
    "    hopkins_stat = numerator / denominator\n",
    "\n",
    "    print('The dataset has a prob. of', round(hopkins_stat *100, 2), '% of containing a cluster')"
   ]
  },
  {
   "cell_type": "code",
   "execution_count": 44,
   "id": "cb95c0e3",
   "metadata": {},
   "outputs": [],
   "source": [
    "df = pd.read_csv('../data/NGC188-result.csv')"
   ]
  },
  {
   "cell_type": "code",
   "execution_count": 45,
   "id": "b5219e28",
   "metadata": {},
   "outputs": [],
   "source": [
    "df = df[['ra','dec','parallax','pmra','pmdec','bp_rp','r_est', 'phot_g_mean_mag']].dropna(axis=0)"
   ]
  },
  {
   "cell_type": "code",
   "execution_count": 46,
   "id": "3d2f61cf",
   "metadata": {},
   "outputs": [
    {
     "name": "stdout",
     "output_type": "stream",
     "text": [
      "The dataset has a prob. of 94.93 % of containing a cluster\n"
     ]
    }
   ],
   "source": [
    "hopkins_statistic(data=df, n_neighbors=5)"
   ]
  },
  {
   "cell_type": "code",
   "execution_count": null,
   "id": "87b06587",
   "metadata": {},
   "outputs": [],
   "source": []
  }
 ],
 "metadata": {
  "kernelspec": {
   "display_name": "Python 3 (ipykernel)",
   "language": "python",
   "name": "python3"
  },
  "language_info": {
   "codemirror_mode": {
    "name": "ipython",
    "version": 3
   },
   "file_extension": ".py",
   "mimetype": "text/x-python",
   "name": "python",
   "nbconvert_exporter": "python",
   "pygments_lexer": "ipython3",
   "version": "3.8.2"
  }
 },
 "nbformat": 4,
 "nbformat_minor": 5
}
